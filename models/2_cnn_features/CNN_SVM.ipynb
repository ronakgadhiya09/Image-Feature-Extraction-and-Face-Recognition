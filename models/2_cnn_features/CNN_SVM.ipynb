{
  "cells": [
    {
      "cell_type": "code",
      "execution_count": 1,
      "metadata": {
        "id": "OpBQw8NPiBTM"
      },
      "outputs": [],
      "source": [
        "import numpy as np\n",
        "import os\n",
        "import torch\n",
        "from sklearn.datasets import fetch_lfw_people\n",
        "import torchvision.models as models\n",
        "from torch.utils import data\n",
        "import torch.nn as nn\n",
        "import torch.nn.functional as F\n",
        "import torch.optim as optim\n",
        "import matplotlib.pyplot as plt\n",
        "import torchvision.transforms as transforms\n",
        "from PIL import Image\n",
        "from sklearn.model_selection import train_test_split\n"
      ]
    },
    {
      "cell_type": "markdown",
      "metadata": {
        "id": "pbVCYgex9suP"
      },
      "source": [
        "Fetching Dataset"
      ]
    },
    {
      "cell_type": "code",
      "execution_count": 2,
      "metadata": {
        "colab": {
          "base_uri": "https://localhost:8080/"
        },
        "id": "BJYp-RSSiKBk",
        "outputId": "ea81f83d-01d8-4f63-836b-327c298211c2"
      },
      "outputs": [
        {
          "name": "stdout",
          "output_type": "stream",
          "text": [
            "Number of samples: 1777\n",
            "Number of features: 1850\n",
            "Number of classes: 17\n"
          ]
        }
      ],
      "source": [
        "# Fetch LFW dataset with minimum faces per person = 40\n",
        "lfw_people = fetch_lfw_people(min_faces_per_person=40, resize=0.4)\n",
        "# Extracting data and target labels\n",
        "X = lfw_people.data\n",
        "y = lfw_people.target\n",
        "target_names = lfw_people.target_names\n",
        "# df = np.genfromtxt('./lfw_people.csv',delimiter=',')\n",
        "# X = df[:, :-1]\n",
        "# y = df[:, -1]\n",
        "n_samples, n_features = X.shape\n",
        "n_classes = len(np.unique(y))\n",
        "\n",
        "# Print dataset statistics\n",
        "print(\"Number of samples: %d\" % n_samples)\n",
        "print(\"Number of features: %d\" % n_features)\n",
        "print(\"Number of classes: %d\" % n_classes)"
      ]
    },
    {
      "cell_type": "markdown",
      "metadata": {
        "id": "6OFhT6xz6UFo"
      },
      "source": [
        "Restructuring Image Pixel Values"
      ]
    },
    {
      "cell_type": "code",
      "execution_count": 3,
      "metadata": {
        "colab": {
          "base_uri": "https://localhost:8080/"
        },
        "id": "q9xzYgxr6erM",
        "outputId": "3985ce8e-bd49-4602-d0ac-c6c2815ab595"
      },
      "outputs": [
        {
          "name": "stdout",
          "output_type": "stream",
          "text": [
            "(50, 37)\n"
          ]
        }
      ],
      "source": [
        "img = X[0].reshape((lfw_people.images.shape[1],lfw_people.images.shape[2]))\n",
        "print(img.shape)"
      ]
    },
    {
      "cell_type": "code",
      "execution_count": 4,
      "metadata": {
        "colab": {
          "base_uri": "https://localhost:8080/",
          "height": 571
        },
        "id": "-4ryBUe6iPmi",
        "outputId": "68b19ecf-b3bc-4798-8518-cd3a4daefc22"
      },
      "outputs": [
        {
          "name": "stdout",
          "output_type": "stream",
          "text": [
            "[[179 182 190 ... 164 159 158]\n",
            " [181 185 186 ... 160 159 156]\n",
            " [178 183 180 ... 159 155 152]\n",
            " ...\n",
            " [ 18  23  53 ...  92  74  27]\n",
            " [ 24  18  35 ...  90  53  16]\n",
            " [ 27  19  21 ...  83  34  12]]\n",
            "Gloria Macapagal Arroyo\n"
          ]
        },
        {
          "data": {
            "image/png": "[encoded data removed]",
            "text/plain": [
              "<Figure size 640x480 with 1 Axes>"
            ]
          },
          "metadata": {},
          "output_type": "display_data"
        }
      ],
      "source": [
        "#Restructuring pixel values to have value between 0 to 255\n",
        "img = (img * 255).astype(np.uint8)\n",
        "print(img)\n",
        "plt.imshow(img)\n",
        "print(target_names[5])"
      ]
    },
    {
      "cell_type": "markdown",
      "metadata": {
        "id": "hKE1EZF-6sfI"
      },
      "source": [
        "Model Building"
      ]
    },
    {
      "cell_type": "code",
      "execution_count": 5,
      "metadata": {
        "colab": {
          "base_uri": "https://localhost:8080/"
        },
        "id": "cPLLvqZdj1XL",
        "outputId": "d5429b81-ee5a-4961-97f6-56b68298ab77"
      },
      "outputs": [
        {
          "name": "stderr",
          "output_type": "stream",
          "text": [
            "C:\\Users\\S.M.Varshit\\AppData\\Roaming\\Python\\Python311\\site-packages\\torchvision\\models\\_utils.py:208: UserWarning: The parameter 'pretrained' is deprecated since 0.13 and may be removed in the future, please use 'weights' instead.\n",
            "  warnings.warn(\n",
            "C:\\Users\\S.M.Varshit\\AppData\\Roaming\\Python\\Python311\\site-packages\\torchvision\\models\\_utils.py:223: UserWarning: Arguments other than a weight enum or `None` for 'weights' are deprecated since 0.13 and may be removed in the future. The current behavior is equivalent to passing `weights=ResNet50_Weights.IMAGENET1K_V1`. You can also use `weights=ResNet50_Weights.DEFAULT` to get the most up-to-date weights.\n",
            "  warnings.warn(msg)\n"
          ]
        },
        {
          "data": {
            "text/plain": [
              "Sequential(\n",
              "  (0): Conv2d(3, 64, kernel_size=(7, 7), stride=(2, 2), padding=(3, 3), bias=False)\n",
              "  (1): BatchNorm2d(64, eps=1e-05, momentum=0.1, affine=True, track_running_stats=True)\n",
              "  (2): ReLU(inplace=True)\n",
              "  (3): MaxPool2d(kernel_size=3, stride=2, padding=1, dilation=1, ceil_mode=False)\n",
              "  (4): Sequential(\n",
              "    (0): Bottleneck(\n",
              "      (conv1): Conv2d(64, 64, kernel_size=(1, 1), stride=(1, 1), bias=False)\n",
              "      (bn1): BatchNorm2d(64, eps=1e-05, momentum=0.1, affine=True, track_running_stats=True)\n",
              "      (conv2): Conv2d(64, 64, kernel_size=(3, 3), stride=(1, 1), padding=(1, 1), bias=False)\n",
              "      (bn2): BatchNorm2d(64, eps=1e-05, momentum=0.1, affine=True, track_running_stats=True)\n",
              "      (conv3): Conv2d(64, 256, kernel_size=(1, 1), stride=(1, 1), bias=False)\n",
              "      (bn3): BatchNorm2d(256, eps=1e-05, momentum=0.1, affine=True, track_running_stats=True)\n",
              "      (relu): ReLU(inplace=True)\n",
              "      (downsample): Sequential(\n",
              "        (0): Conv2d(64, 256, kernel_size=(1, 1), stride=(1, 1), bias=False)\n",
              "        (1): BatchNorm2d(256, eps=1e-05, momentum=0.1, affine=True, track_running_stats=True)\n",
              "      )\n",
              "    )\n",
              "    (1): Bottleneck(\n",
              "      (conv1): Conv2d(256, 64, kernel_size=(1, 1), stride=(1, 1), bias=False)\n",
              "      (bn1): BatchNorm2d(64, eps=1e-05, momentum=0.1, affine=True, track_running_stats=True)\n",
              "      (conv2): Conv2d(64, 64, kernel_size=(3, 3), stride=(1, 1), padding=(1, 1), bias=False)\n",
              "      (bn2): BatchNorm2d(64, eps=1e-05, momentum=0.1, affine=True, track_running_stats=True)\n",
              "      (conv3): Conv2d(64, 256, kernel_size=(1, 1), stride=(1, 1), bias=False)\n",
              "      (bn3): BatchNorm2d(256, eps=1e-05, momentum=0.1, affine=True, track_running_stats=True)\n",
              "      (relu): ReLU(inplace=True)\n",
              "    )\n",
              "    (2): Bottleneck(\n",
              "      (conv1): Conv2d(256, 64, kernel_size=(1, 1), stride=(1, 1), bias=False)\n",
              "      (bn1): BatchNorm2d(64, eps=1e-05, momentum=0.1, affine=True, track_running_stats=True)\n",
              "      (conv2): Conv2d(64, 64, kernel_size=(3, 3), stride=(1, 1), padding=(1, 1), bias=False)\n",
              "      (bn2): BatchNorm2d(64, eps=1e-05, momentum=0.1, affine=True, track_running_stats=True)\n",
              "      (conv3): Conv2d(64, 256, kernel_size=(1, 1), stride=(1, 1), bias=False)\n",
              "      (bn3): BatchNorm2d(256, eps=1e-05, momentum=0.1, affine=True, track_running_stats=True)\n",
              "      (relu): ReLU(inplace=True)\n",
              "    )\n",
              "  )\n",
              "  (5): Sequential(\n",
              "    (0): Bottleneck(\n",
              "      (conv1): Conv2d(256, 128, kernel_size=(1, 1), stride=(1, 1), bias=False)\n",
              "      (bn1): BatchNorm2d(128, eps=1e-05, momentum=0.1, affine=True, track_running_stats=True)\n",
              "      (conv2): Conv2d(128, 128, kernel_size=(3, 3), stride=(2, 2), padding=(1, 1), bias=False)\n",
              "      (bn2): BatchNorm2d(128, eps=1e-05, momentum=0.1, affine=True, track_running_stats=True)\n",
              "      (conv3): Conv2d(128, 512, kernel_size=(1, 1), stride=(1, 1), bias=False)\n",
              "      (bn3): BatchNorm2d(512, eps=1e-05, momentum=0.1, affine=True, track_running_stats=True)\n",
              "      (relu): ReLU(inplace=True)\n",
              "      (downsample): Sequential(\n",
              "        (0): Conv2d(256, 512, kernel_size=(1, 1), stride=(2, 2), bias=False)\n",
              "        (1): BatchNorm2d(512, eps=1e-05, momentum=0.1, affine=True, track_running_stats=True)\n",
              "      )\n",
              "    )\n",
              "    (1): Bottleneck(\n",
              "      (conv1): Conv2d(512, 128, kernel_size=(1, 1), stride=(1, 1), bias=False)\n",
              "      (bn1): BatchNorm2d(128, eps=1e-05, momentum=0.1, affine=True, track_running_stats=True)\n",
              "      (conv2): Conv2d(128, 128, kernel_size=(3, 3), stride=(1, 1), padding=(1, 1), bias=False)\n",
              "      (bn2): BatchNorm2d(128, eps=1e-05, momentum=0.1, affine=True, track_running_stats=True)\n",
              "      (conv3): Conv2d(128, 512, kernel_size=(1, 1), stride=(1, 1), bias=False)\n",
              "      (bn3): BatchNorm2d(512, eps=1e-05, momentum=0.1, affine=True, track_running_stats=True)\n",
              "      (relu): ReLU(inplace=True)\n",
              "    )\n",
              "    (2): Bottleneck(\n",
              "      (conv1): Conv2d(512, 128, kernel_size=(1, 1), stride=(1, 1), bias=False)\n",
              "      (bn1): BatchNorm2d(128, eps=1e-05, momentum=0.1, affine=True, track_running_stats=True)\n",
              "      (conv2): Conv2d(128, 128, kernel_size=(3, 3), stride=(1, 1), padding=(1, 1), bias=False)\n",
              "      (bn2): BatchNorm2d(128, eps=1e-05, momentum=0.1, affine=True, track_running_stats=True)\n",
              "      (conv3): Conv2d(128, 512, kernel_size=(1, 1), stride=(1, 1), bias=False)\n",
              "      (bn3): BatchNorm2d(512, eps=1e-05, momentum=0.1, affine=True, track_running_stats=True)\n",
              "      (relu): ReLU(inplace=True)\n",
              "    )\n",
              "    (3): Bottleneck(\n",
              "      (conv1): Conv2d(512, 128, kernel_size=(1, 1), stride=(1, 1), bias=False)\n",
              "      (bn1): BatchNorm2d(128, eps=1e-05, momentum=0.1, affine=True, track_running_stats=True)\n",
              "      (conv2): Conv2d(128, 128, kernel_size=(3, 3), stride=(1, 1), padding=(1, 1), bias=False)\n",
              "      (bn2): BatchNorm2d(128, eps=1e-05, momentum=0.1, affine=True, track_running_stats=True)\n",
              "      (conv3): Conv2d(128, 512, kernel_size=(1, 1), stride=(1, 1), bias=False)\n",
              "      (bn3): BatchNorm2d(512, eps=1e-05, momentum=0.1, affine=True, track_running_stats=True)\n",
              "      (relu): ReLU(inplace=True)\n",
              "    )\n",
              "  )\n",
              "  (6): Sequential(\n",
              "    (0): Bottleneck(\n",
              "      (conv1): Conv2d(512, 256, kernel_size=(1, 1), stride=(1, 1), bias=False)\n",
              "      (bn1): BatchNorm2d(256, eps=1e-05, momentum=0.1, affine=True, track_running_stats=True)\n",
              "      (conv2): Conv2d(256, 256, kernel_size=(3, 3), stride=(2, 2), padding=(1, 1), bias=False)\n",
              "      (bn2): BatchNorm2d(256, eps=1e-05, momentum=0.1, affine=True, track_running_stats=True)\n",
              "      (conv3): Conv2d(256, 1024, kernel_size=(1, 1), stride=(1, 1), bias=False)\n",
              "      (bn3): BatchNorm2d(1024, eps=1e-05, momentum=0.1, affine=True, track_running_stats=True)\n",
              "      (relu): ReLU(inplace=True)\n",
              "      (downsample): Sequential(\n",
              "        (0): Conv2d(512, 1024, kernel_size=(1, 1), stride=(2, 2), bias=False)\n",
              "        (1): BatchNorm2d(1024, eps=1e-05, momentum=0.1, affine=True, track_running_stats=True)\n",
              "      )\n",
              "    )\n",
              "    (1): Bottleneck(\n",
              "      (conv1): Conv2d(1024, 256, kernel_size=(1, 1), stride=(1, 1), bias=False)\n",
              "      (bn1): BatchNorm2d(256, eps=1e-05, momentum=0.1, affine=True, track_running_stats=True)\n",
              "      (conv2): Conv2d(256, 256, kernel_size=(3, 3), stride=(1, 1), padding=(1, 1), bias=False)\n",
              "      (bn2): BatchNorm2d(256, eps=1e-05, momentum=0.1, affine=True, track_running_stats=True)\n",
              "      (conv3): Conv2d(256, 1024, kernel_size=(1, 1), stride=(1, 1), bias=False)\n",
              "      (bn3): BatchNorm2d(1024, eps=1e-05, momentum=0.1, affine=True, track_running_stats=True)\n",
              "      (relu): ReLU(inplace=True)\n",
              "    )\n",
              "    (2): Bottleneck(\n",
              "      (conv1): Conv2d(1024, 256, kernel_size=(1, 1), stride=(1, 1), bias=False)\n",
              "      (bn1): BatchNorm2d(256, eps=1e-05, momentum=0.1, affine=True, track_running_stats=True)\n",
              "      (conv2): Conv2d(256, 256, kernel_size=(3, 3), stride=(1, 1), padding=(1, 1), bias=False)\n",
              "      (bn2): BatchNorm2d(256, eps=1e-05, momentum=0.1, affine=True, track_running_stats=True)\n",
              "      (conv3): Conv2d(256, 1024, kernel_size=(1, 1), stride=(1, 1), bias=False)\n",
              "      (bn3): BatchNorm2d(1024, eps=1e-05, momentum=0.1, affine=True, track_running_stats=True)\n",
              "      (relu): ReLU(inplace=True)\n",
              "    )\n",
              "    (3): Bottleneck(\n",
              "      (conv1): Conv2d(1024, 256, kernel_size=(1, 1), stride=(1, 1), bias=False)\n",
              "      (bn1): BatchNorm2d(256, eps=1e-05, momentum=0.1, affine=True, track_running_stats=True)\n",
              "      (conv2): Conv2d(256, 256, kernel_size=(3, 3), stride=(1, 1), padding=(1, 1), bias=False)\n",
              "      (bn2): BatchNorm2d(256, eps=1e-05, momentum=0.1, affine=True, track_running_stats=True)\n",
              "      (conv3): Conv2d(256, 1024, kernel_size=(1, 1), stride=(1, 1), bias=False)\n",
              "      (bn3): BatchNorm2d(1024, eps=1e-05, momentum=0.1, affine=True, track_running_stats=True)\n",
              "      (relu): ReLU(inplace=True)\n",
              "    )\n",
              "    (4): Bottleneck(\n",
              "      (conv1): Conv2d(1024, 256, kernel_size=(1, 1), stride=(1, 1), bias=False)\n",
              "      (bn1): BatchNorm2d(256, eps=1e-05, momentum=0.1, affine=True, track_running_stats=True)\n",
              "      (conv2): Conv2d(256, 256, kernel_size=(3, 3), stride=(1, 1), padding=(1, 1), bias=False)\n",
              "      (bn2): BatchNorm2d(256, eps=1e-05, momentum=0.1, affine=True, track_running_stats=True)\n",
              "      (conv3): Conv2d(256, 1024, kernel_size=(1, 1), stride=(1, 1), bias=False)\n",
              "      (bn3): BatchNorm2d(1024, eps=1e-05, momentum=0.1, affine=True, track_running_stats=True)\n",
              "      (relu): ReLU(inplace=True)\n",
              "    )\n",
              "    (5): Bottleneck(\n",
              "      (conv1): Conv2d(1024, 256, kernel_size=(1, 1), stride=(1, 1), bias=False)\n",
              "      (bn1): BatchNorm2d(256, eps=1e-05, momentum=0.1, affine=True, track_running_stats=True)\n",
              "      (conv2): Conv2d(256, 256, kernel_size=(3, 3), stride=(1, 1), padding=(1, 1), bias=False)\n",
              "      (bn2): BatchNorm2d(256, eps=1e-05, momentum=0.1, affine=True, track_running_stats=True)\n",
              "      (conv3): Conv2d(256, 1024, kernel_size=(1, 1), stride=(1, 1), bias=False)\n",
              "      (bn3): BatchNorm2d(1024, eps=1e-05, momentum=0.1, affine=True, track_running_stats=True)\n",
              "      (relu): ReLU(inplace=True)\n",
              "    )\n",
              "  )\n",
              "  (7): Sequential(\n",
              "    (0): Bottleneck(\n",
              "      (conv1): Conv2d(1024, 512, kernel_size=(1, 1), stride=(1, 1), bias=False)\n",
              "      (bn1): BatchNorm2d(512, eps=1e-05, momentum=0.1, affine=True, track_running_stats=True)\n",
              "      (conv2): Conv2d(512, 512, kernel_size=(3, 3), stride=(2, 2), padding=(1, 1), bias=False)\n",
              "      (bn2): BatchNorm2d(512, eps=1e-05, momentum=0.1, affine=True, track_running_stats=True)\n",
              "      (conv3): Conv2d(512, 2048, kernel_size=(1, 1), stride=(1, 1), bias=False)\n",
              "      (bn3): BatchNorm2d(2048, eps=1e-05, momentum=0.1, affine=True, track_running_stats=True)\n",
              "      (relu): ReLU(inplace=True)\n",
              "      (downsample): Sequential(\n",
              "        (0): Conv2d(1024, 2048, kernel_size=(1, 1), stride=(2, 2), bias=False)\n",
              "        (1): BatchNorm2d(2048, eps=1e-05, momentum=0.1, affine=True, track_running_stats=True)\n",
              "      )\n",
              "    )\n",
              "    (1): Bottleneck(\n",
              "      (conv1): Conv2d(2048, 512, kernel_size=(1, 1), stride=(1, 1), bias=False)\n",
              "      (bn1): BatchNorm2d(512, eps=1e-05, momentum=0.1, affine=True, track_running_stats=True)\n",
              "      (conv2): Conv2d(512, 512, kernel_size=(3, 3), stride=(1, 1), padding=(1, 1), bias=False)\n",
              "      (bn2): BatchNorm2d(512, eps=1e-05, momentum=0.1, affine=True, track_running_stats=True)\n",
              "      (conv3): Conv2d(512, 2048, kernel_size=(1, 1), stride=(1, 1), bias=False)\n",
              "      (bn3): BatchNorm2d(2048, eps=1e-05, momentum=0.1, affine=True, track_running_stats=True)\n",
              "      (relu): ReLU(inplace=True)\n",
              "    )\n",
              "    (2): Bottleneck(\n",
              "      (conv1): Conv2d(2048, 512, kernel_size=(1, 1), stride=(1, 1), bias=False)\n",
              "      (bn1): BatchNorm2d(512, eps=1e-05, momentum=0.1, affine=True, track_running_stats=True)\n",
              "      (conv2): Conv2d(512, 512, kernel_size=(3, 3), stride=(1, 1), padding=(1, 1), bias=False)\n",
              "      (bn2): BatchNorm2d(512, eps=1e-05, momentum=0.1, affine=True, track_running_stats=True)\n",
              "      (conv3): Conv2d(512, 2048, kernel_size=(1, 1), stride=(1, 1), bias=False)\n",
              "      (bn3): BatchNorm2d(2048, eps=1e-05, momentum=0.1, affine=True, track_running_stats=True)\n",
              "      (relu): ReLU(inplace=True)\n",
              "    )\n",
              "  )\n",
              "  (8): AdaptiveAvgPool2d(output_size=(1, 1))\n",
              ")"
            ]
          },
          "execution_count": 5,
          "metadata": {},
          "output_type": "execute_result"
        }
      ],
      "source": [
        "resnet = models.resnet50(pretrained=True)\n",
        "resnet = nn.Sequential(*list(resnet.children())[:-1])\n",
        "resnet.eval()"
      ]
    },
    {
      "cell_type": "markdown",
      "metadata": {
        "id": "zqJwMLwZ91_H"
      },
      "source": [
        "Feature Extraction Function"
      ]
    },
    {
      "cell_type": "code",
      "execution_count": 6,
      "metadata": {
        "id": "QNUirge0oyps"
      },
      "outputs": [],
      "source": [
        "def extract_features(image_arrays, model):\n",
        "    # Load and preprocess the images\n",
        "    preprocessed_images = []\n",
        "    for image_array in image_arrays:\n",
        "        # print(image_array.shape)\n",
        "        img = image_array.reshape((lfw_people.images.shape[1],lfw_people.images.shape[2]))\n",
        "        img = (img * 255).astype(np.uint8)\n",
        "        image = Image.fromarray(img).convert('RGB')\n",
        "        preprocess = transforms.Compose([\n",
        "            transforms.Resize(256),\n",
        "            transforms.CenterCrop(224),\n",
        "            transforms.ToTensor(),\n",
        "            transforms.Normalize(mean=[0.485], std=[0.229]),  # Assuming grayscale images\n",
        "        ])\n",
        "        image = preprocess(image)\n",
        "        preprocessed_images.append(image)\n",
        "\n",
        "    # Stack the preprocessed images to create a batch tensor\n",
        "    batch_tensor = torch.stack(preprocessed_images)\n",
        "\n",
        "    # Extract features\n",
        "    with torch.no_grad():\n",
        "        features = model(batch_tensor)\n",
        "\n",
        "    return features\n",
        "\n",
        "# img = X[0].reshape((lfw_people.images.shape[1],lfw_people.images.shape[2]))\n",
        "# img = (img * 255).astype(np.uint8)"
      ]
    },
    {
      "cell_type": "code",
      "execution_count": 7,
      "metadata": {
        "colab": {
          "base_uri": "https://localhost:8080/"
        },
        "id": "7qxDs9FE1sfS",
        "outputId": "ab52102b-6c3f-48da-b1f9-bfd4c42760bd"
      },
      "outputs": [
        {
          "name": "stdout",
          "output_type": "stream",
          "text": [
            "(1777,)\n"
          ]
        }
      ],
      "source": [
        "print(y.shape)"
      ]
    },
    {
      "cell_type": "markdown",
      "metadata": {
        "id": "hDAxpuhy95oM"
      },
      "source": [
        "Batch division"
      ]
    },
    {
      "cell_type": "code",
      "execution_count": 8,
      "metadata": {
        "id": "1TfsIdH9r0o6"
      },
      "outputs": [],
      "source": [
        "batch_size = 28\n",
        "\n",
        "X_train_batches = []\n",
        "y_train_batches = []\n",
        "\n",
        "for i in range(int(X.shape[0]/batch_size)):\n",
        "    start_idx = i * batch_size\n",
        "    end_idx = (i + 1) * batch_size\n",
        "    batch1 = X[start_idx:end_idx]\n",
        "    batch2 = y[start_idx:end_idx]\n",
        "    X_train_batches.append(batch1)\n",
        "    y_train_batches.append(batch2)\n",
        "\n",
        "if len(X) % batch_size != 0:\n",
        "    last_batch = X[batch_size * batch_size:]\n",
        "    X_train_batches.append(last_batch)\n",
        "\n",
        "X_train_batches.pop()\n",
        "X_batches = np.array(X_train_batches)\n",
        "y_batches = np.array(y_train_batches)"
      ]
    },
    {
      "cell_type": "code",
      "execution_count": 9,
      "metadata": {
        "colab": {
          "base_uri": "https://localhost:8080/"
        },
        "id": "zBGsaRqCPymE",
        "outputId": "bf6b6093-6ce0-4453-b707-0203dfad3745"
      },
      "outputs": [
        {
          "data": {
            "text/plain": [
              "(63, 28)"
            ]
          },
          "execution_count": 9,
          "metadata": {},
          "output_type": "execute_result"
        }
      ],
      "source": [
        "y_batches.shape"
      ]
    },
    {
      "cell_type": "code",
      "execution_count": 10,
      "metadata": {
        "colab": {
          "base_uri": "https://localhost:8080/"
        },
        "id": "ksiojDBCPymE",
        "outputId": "57edbd94-f2a7-43db-8472-5b2e2b722da2"
      },
      "outputs": [
        {
          "data": {
            "text/plain": [
              "(1764,)"
            ]
          },
          "execution_count": 10,
          "metadata": {},
          "output_type": "execute_result"
        }
      ],
      "source": [
        "y2 = y_batches.reshape(-1,1)\n",
        "y2 = y2.squeeze(1)\n",
        "y2.shape"
      ]
    },
    {
      "cell_type": "code",
      "execution_count": 11,
      "metadata": {
        "colab": {
          "base_uri": "https://localhost:8080/"
        },
        "id": "CnmKVBlrs-aC",
        "outputId": "b4b7d5a4-d735-4048-add7-4ec8add9b27e"
      },
      "outputs": [
        {
          "name": "stdout",
          "output_type": "stream",
          "text": [
            "(63, 28, 1850)\n",
            "(28, 1850)\n"
          ]
        }
      ],
      "source": [
        "print(X_batches.shape)\n",
        "print(X_batches[0].shape)"
      ]
    },
    {
      "cell_type": "markdown",
      "metadata": {
        "id": "tx_cL2OL990T"
      },
      "source": [
        "Feature Extraction"
      ]
    },
    {
      "cell_type": "code",
      "execution_count": 12,
      "metadata": {
        "colab": {
          "base_uri": "https://localhost:8080/",
          "height": 443
        },
        "id": "SaflBcydt_3E",
        "outputId": "57ebc231-c688-4395-e5e5-751bcde77bb6"
      },
      "outputs": [
        {
          "name": "stdout",
          "output_type": "stream",
          "text": [
            "Iteration:  0 \n",
            "\n"
          ]
        },
        {
          "name": "stdout",
          "output_type": "stream",
          "text": [
            "Iteration:  1 \n",
            "\n",
            "Iteration:  2 \n",
            "\n",
            "Iteration:  3 \n",
            "\n",
            "Iteration:  4 \n",
            "\n",
            "Iteration:  5 \n",
            "\n",
            "Iteration:  6 \n",
            "\n",
            "Iteration:  7 \n",
            "\n",
            "Iteration:  8 \n",
            "\n",
            "Iteration:  9 \n",
            "\n",
            "Iteration:  10 \n",
            "\n",
            "Iteration:  11 \n",
            "\n",
            "Iteration:  12 \n",
            "\n",
            "Iteration:  13 \n",
            "\n",
            "Iteration:  14 \n",
            "\n",
            "Iteration:  15 \n",
            "\n",
            "Iteration:  16 \n",
            "\n",
            "Iteration:  17 \n",
            "\n",
            "Iteration:  18 \n",
            "\n",
            "Iteration:  19 \n",
            "\n",
            "Iteration:  20 \n",
            "\n",
            "Iteration:  21 \n",
            "\n",
            "Iteration:  22 \n",
            "\n",
            "Iteration:  23 \n",
            "\n",
            "Iteration:  24 \n",
            "\n",
            "Iteration:  25 \n",
            "\n",
            "Iteration:  26 \n",
            "\n",
            "Iteration:  27 \n",
            "\n",
            "Iteration:  28 \n",
            "\n",
            "Iteration:  29 \n",
            "\n",
            "Iteration:  30 \n",
            "\n",
            "Iteration:  31 \n",
            "\n",
            "Iteration:  32 \n",
            "\n",
            "Iteration:  33 \n",
            "\n",
            "Iteration:  34 \n",
            "\n",
            "Iteration:  35 \n",
            "\n",
            "Iteration:  36 \n",
            "\n",
            "Iteration:  37 \n",
            "\n",
            "Iteration:  38 \n",
            "\n",
            "Iteration:  39 \n",
            "\n",
            "Iteration:  40 \n",
            "\n",
            "Iteration:  41 \n",
            "\n",
            "Iteration:  42 \n",
            "\n",
            "Iteration:  43 \n",
            "\n",
            "Iteration:  44 \n",
            "\n",
            "Iteration:  45 \n",
            "\n",
            "Iteration:  46 \n",
            "\n",
            "Iteration:  47 \n",
            "\n",
            "Iteration:  48 \n",
            "\n",
            "Iteration:  49 \n",
            "\n",
            "Iteration:  50 \n",
            "\n",
            "Iteration:  51 \n",
            "\n",
            "Iteration:  52 \n",
            "\n",
            "Iteration:  53 \n",
            "\n",
            "Iteration:  54 \n",
            "\n",
            "Iteration:  55 \n",
            "\n",
            "Iteration:  56 \n",
            "\n",
            "Iteration:  57 \n",
            "\n",
            "Iteration:  58 \n",
            "\n",
            "Iteration:  59 \n",
            "\n",
            "Iteration:  60 \n",
            "\n",
            "Iteration:  61 \n",
            "\n",
            "Iteration:  62 \n",
            "\n"
          ]
        }
      ],
      "source": [
        "output = []\n",
        "for i in range(X_batches.shape[0]):\n",
        "  print('Iteration: ', i, '\\n')\n",
        "  features = extract_features(X_batches[i], resnet)\n",
        "  output.append(features)"
      ]
    },
    {
      "cell_type": "code",
      "execution_count": 13,
      "metadata": {
        "id": "TVETH-_mxdky"
      },
      "outputs": [],
      "source": [
        "output = np.array(output) #Conversion of list to array\n",
        "output = output.squeeze(3).squeeze(3) #Squeezing last two dimensions to make it a 3-D array\n",
        "output = output.reshape(-1,2048) #Reshaping into a 2-D array\n",
        "torch.save(output, 'extracted_features.pt') #Saving the extracted features in a pt file so that it can be used later"
      ]
    },
    {
      "cell_type": "markdown",
      "metadata": {
        "id": "VchxPAnK8Z3d"
      },
      "source": [
        "Train-Test Split of Extracted Features"
      ]
    },
    {
      "cell_type": "code",
      "execution_count": 14,
      "metadata": {
        "id": "SIyMZvV15H9H"
      },
      "outputs": [],
      "source": [
        "X_train, X_test, Y_train, Y_test = train_test_split(output, y2, test_size=0.2, random_state=0)"
      ]
    },
    {
      "cell_type": "markdown",
      "metadata": {
        "id": "Wi30T5dw8guL"
      },
      "source": [
        "Creating a train-test split of original data"
      ]
    },
    {
      "cell_type": "code",
      "execution_count": 15,
      "metadata": {
        "id": "HbLmcrYb5gl9"
      },
      "outputs": [],
      "source": [
        "X_train2, X_test2, Y_train2, Y_test2 = train_test_split(X, y, test_size=0.2, random_state=0)"
      ]
    },
    {
      "cell_type": "markdown",
      "metadata": {
        "id": "fcc-Wg0TQBd-"
      },
      "source": [
        "Finding best SVM parameters"
      ]
    },
    {
      "cell_type": "markdown",
      "metadata": {
        "id": "xjUkq5amQCLu"
      },
      "source": [
        "1. SVM Kernel = RBF"
      ]
    },
    {
      "cell_type": "code",
      "execution_count": 17,
      "metadata": {
        "colab": {
          "base_uri": "https://localhost:8080/",
          "height": 269
        },
        "id": "YJaTbCxQQDvC",
        "outputId": "261a8257-1d85-40b0-8ec6-7f221cfbad85"
      },
      "outputs": [
        {
          "name": "stdout",
          "output_type": "stream",
          "text": [
            "Fitting 5 folds for each of 25 candidates, totalling 125 fits\n",
            "[CV 1/5] END ........C=0.1, gamma=1, kernel=rbf;, score=0.300 total time=   2.1s\n",
            "[CV 2/5] END ........C=0.1, gamma=1, kernel=rbf;, score=0.301 total time=   1.9s\n",
            "[CV 3/5] END ........C=0.1, gamma=1, kernel=rbf;, score=0.301 total time=   2.1s\n",
            "[CV 4/5] END ........C=0.1, gamma=1, kernel=rbf;, score=0.301 total time=   2.2s\n",
            "[CV 5/5] END ........C=0.1, gamma=1, kernel=rbf;, score=0.298 total time=   2.1s\n",
            "[CV 1/5] END ......C=0.1, gamma=0.1, kernel=rbf;, score=0.300 total time=   2.0s\n",
            "[CV 2/5] END ......C=0.1, gamma=0.1, kernel=rbf;, score=0.301 total time=   1.9s\n",
            "[CV 3/5] END ......C=0.1, gamma=0.1, kernel=rbf;, score=0.301 total time=   1.9s\n",
            "[CV 4/5] END ......C=0.1, gamma=0.1, kernel=rbf;, score=0.301 total time=   1.8s\n",
            "[CV 5/5] END ......C=0.1, gamma=0.1, kernel=rbf;, score=0.298 total time=   2.0s\n",
            "[CV 1/5] END .....C=0.1, gamma=0.01, kernel=rbf;, score=0.399 total time=   1.0s\n",
            "[CV 2/5] END .....C=0.1, gamma=0.01, kernel=rbf;, score=0.408 total time=   1.0s\n",
            "[CV 3/5] END .....C=0.1, gamma=0.01, kernel=rbf;, score=0.415 total time=   1.1s\n",
            "[CV 4/5] END .....C=0.1, gamma=0.01, kernel=rbf;, score=0.397 total time=   1.1s\n",
            "[CV 5/5] END .....C=0.1, gamma=0.01, kernel=rbf;, score=0.397 total time=   1.0s\n",
            "[CV 1/5] END ....C=0.1, gamma=0.001, kernel=rbf;, score=0.300 total time=   1.1s\n",
            "[CV 2/5] END ....C=0.1, gamma=0.001, kernel=rbf;, score=0.301 total time=   1.0s\n",
            "[CV 3/5] END ....C=0.1, gamma=0.001, kernel=rbf;, score=0.301 total time=   1.0s\n",
            "[CV 4/5] END ....C=0.1, gamma=0.001, kernel=rbf;, score=0.301 total time=   1.0s\n",
            "[CV 5/5] END ....C=0.1, gamma=0.001, kernel=rbf;, score=0.298 total time=   1.0s\n",
            "[CV 1/5] END ...C=0.1, gamma=0.0001, kernel=rbf;, score=0.300 total time=   0.9s\n",
            "[CV 2/5] END ...C=0.1, gamma=0.0001, kernel=rbf;, score=0.301 total time=   0.9s\n",
            "[CV 3/5] END ...C=0.1, gamma=0.0001, kernel=rbf;, score=0.301 total time=   0.9s\n",
            "[CV 4/5] END ...C=0.1, gamma=0.0001, kernel=rbf;, score=0.301 total time=   1.0s\n",
            "[CV 5/5] END ...C=0.1, gamma=0.0001, kernel=rbf;, score=0.298 total time=   0.9s\n",
            "[CV 1/5] END ..........C=1, gamma=1, kernel=rbf;, score=0.300 total time=   1.9s\n",
            "[CV 2/5] END ..........C=1, gamma=1, kernel=rbf;, score=0.301 total time=   1.9s\n",
            "[CV 3/5] END ..........C=1, gamma=1, kernel=rbf;, score=0.301 total time=   2.0s\n",
            "[CV 4/5] END ..........C=1, gamma=1, kernel=rbf;, score=0.301 total time=   1.9s\n",
            "[CV 5/5] END ..........C=1, gamma=1, kernel=rbf;, score=0.298 total time=   1.9s\n",
            "[CV 1/5] END ........C=1, gamma=0.1, kernel=rbf;, score=0.322 total time=   1.8s\n",
            "[CV 2/5] END ........C=1, gamma=0.1, kernel=rbf;, score=0.333 total time=   1.9s\n",
            "[CV 3/5] END ........C=1, gamma=0.1, kernel=rbf;, score=0.344 total time=   1.9s\n",
            "[CV 4/5] END ........C=1, gamma=0.1, kernel=rbf;, score=0.326 total time=   1.9s\n",
            "[CV 5/5] END ........C=1, gamma=0.1, kernel=rbf;, score=0.316 total time=   1.9s\n",
            "[CV 1/5] END .......C=1, gamma=0.01, kernel=rbf;, score=0.728 total time=   0.9s\n",
            "[CV 2/5] END .......C=1, gamma=0.01, kernel=rbf;, score=0.752 total time=   0.9s\n",
            "[CV 3/5] END .......C=1, gamma=0.01, kernel=rbf;, score=0.748 total time=   0.9s\n",
            "[CV 4/5] END .......C=1, gamma=0.01, kernel=rbf;, score=0.723 total time=   1.0s\n",
            "[CV 5/5] END .......C=1, gamma=0.01, kernel=rbf;, score=0.748 total time=   0.9s\n",
            "[CV 1/5] END ......C=1, gamma=0.001, kernel=rbf;, score=0.452 total time=   0.9s\n",
            "[CV 2/5] END ......C=1, gamma=0.001, kernel=rbf;, score=0.468 total time=   0.9s\n",
            "[CV 3/5] END ......C=1, gamma=0.001, kernel=rbf;, score=0.482 total time=   0.9s\n",
            "[CV 4/5] END ......C=1, gamma=0.001, kernel=rbf;, score=0.450 total time=   0.9s\n",
            "[CV 5/5] END ......C=1, gamma=0.001, kernel=rbf;, score=0.443 total time=   0.9s\n",
            "[CV 1/5] END .....C=1, gamma=0.0001, kernel=rbf;, score=0.300 total time=   0.9s\n",
            "[CV 2/5] END .....C=1, gamma=0.0001, kernel=rbf;, score=0.301 total time=   0.9s\n",
            "[CV 3/5] END .....C=1, gamma=0.0001, kernel=rbf;, score=0.301 total time=   0.9s\n",
            "[CV 4/5] END .....C=1, gamma=0.0001, kernel=rbf;, score=0.301 total time=   0.9s\n",
            "[CV 5/5] END .....C=1, gamma=0.0001, kernel=rbf;, score=0.298 total time=   0.9s\n",
            "[CV 1/5] END .........C=10, gamma=1, kernel=rbf;, score=0.300 total time=   1.9s\n",
            "[CV 2/5] END .........C=10, gamma=1, kernel=rbf;, score=0.301 total time=   2.0s\n",
            "[CV 3/5] END .........C=10, gamma=1, kernel=rbf;, score=0.301 total time=   1.9s\n",
            "[CV 4/5] END .........C=10, gamma=1, kernel=rbf;, score=0.301 total time=   2.0s\n",
            "[CV 5/5] END .........C=10, gamma=1, kernel=rbf;, score=0.298 total time=   2.0s\n",
            "[CV 1/5] END .......C=10, gamma=0.1, kernel=rbf;, score=0.350 total time=   2.0s\n",
            "[CV 2/5] END .......C=10, gamma=0.1, kernel=rbf;, score=0.351 total time=   2.0s\n",
            "[CV 3/5] END .......C=10, gamma=0.1, kernel=rbf;, score=0.358 total time=   1.9s\n",
            "[CV 4/5] END .......C=10, gamma=0.1, kernel=rbf;, score=0.351 total time=   2.0s\n",
            "[CV 5/5] END .......C=10, gamma=0.1, kernel=rbf;, score=0.333 total time=   1.9s\n",
            "[CV 1/5] END ......C=10, gamma=0.01, kernel=rbf;, score=0.802 total time=   0.9s\n",
            "[CV 2/5] END ......C=10, gamma=0.01, kernel=rbf;, score=0.830 total time=   0.9s\n",
            "[CV 3/5] END ......C=10, gamma=0.01, kernel=rbf;, score=0.819 total time=   0.9s\n",
            "[CV 4/5] END ......C=10, gamma=0.01, kernel=rbf;, score=0.830 total time=   0.9s\n",
            "[CV 5/5] END ......C=10, gamma=0.01, kernel=rbf;, score=0.816 total time=   0.9s\n",
            "[CV 1/5] END .....C=10, gamma=0.001, kernel=rbf;, score=0.784 total time=   0.7s\n",
            "[CV 2/5] END .....C=10, gamma=0.001, kernel=rbf;, score=0.798 total time=   0.7s\n",
            "[CV 3/5] END .....C=10, gamma=0.001, kernel=rbf;, score=0.794 total time=   0.8s\n",
            "[CV 4/5] END .....C=10, gamma=0.001, kernel=rbf;, score=0.798 total time=   0.7s\n",
            "[CV 5/5] END .....C=10, gamma=0.001, kernel=rbf;, score=0.794 total time=   0.7s\n",
            "[CV 1/5] END ....C=10, gamma=0.0001, kernel=rbf;, score=0.459 total time=   0.9s\n",
            "[CV 2/5] END ....C=10, gamma=0.0001, kernel=rbf;, score=0.472 total time=   0.9s\n",
            "[CV 3/5] END ....C=10, gamma=0.0001, kernel=rbf;, score=0.486 total time=   0.9s\n",
            "[CV 4/5] END ....C=10, gamma=0.0001, kernel=rbf;, score=0.461 total time=   0.9s\n",
            "[CV 5/5] END ....C=10, gamma=0.0001, kernel=rbf;, score=0.447 total time=   0.9s\n",
            "[CV 1/5] END ........C=100, gamma=1, kernel=rbf;, score=0.300 total time=   1.8s\n",
            "[CV 2/5] END ........C=100, gamma=1, kernel=rbf;, score=0.301 total time=   1.9s\n",
            "[CV 3/5] END ........C=100, gamma=1, kernel=rbf;, score=0.301 total time=   1.9s\n",
            "[CV 4/5] END ........C=100, gamma=1, kernel=rbf;, score=0.301 total time=   1.9s\n",
            "[CV 5/5] END ........C=100, gamma=1, kernel=rbf;, score=0.298 total time=   1.9s\n",
            "[CV 1/5] END ......C=100, gamma=0.1, kernel=rbf;, score=0.350 total time=   1.9s\n",
            "[CV 2/5] END ......C=100, gamma=0.1, kernel=rbf;, score=0.351 total time=   2.0s\n",
            "[CV 3/5] END ......C=100, gamma=0.1, kernel=rbf;, score=0.358 total time=   1.9s\n",
            "[CV 4/5] END ......C=100, gamma=0.1, kernel=rbf;, score=0.351 total time=   1.9s\n",
            "[CV 5/5] END ......C=100, gamma=0.1, kernel=rbf;, score=0.333 total time=   1.9s\n",
            "[CV 1/5] END .....C=100, gamma=0.01, kernel=rbf;, score=0.802 total time=   1.0s\n",
            "[CV 2/5] END .....C=100, gamma=0.01, kernel=rbf;, score=0.830 total time=   0.9s\n",
            "[CV 3/5] END .....C=100, gamma=0.01, kernel=rbf;, score=0.819 total time=   0.9s\n",
            "[CV 4/5] END .....C=100, gamma=0.01, kernel=rbf;, score=0.830 total time=   0.9s\n",
            "[CV 5/5] END .....C=100, gamma=0.01, kernel=rbf;, score=0.816 total time=   0.9s\n",
            "[CV 1/5] END ....C=100, gamma=0.001, kernel=rbf;, score=0.862 total time=   0.8s\n",
            "[CV 2/5] END ....C=100, gamma=0.001, kernel=rbf;, score=0.848 total time=   0.7s\n",
            "[CV 3/5] END ....C=100, gamma=0.001, kernel=rbf;, score=0.844 total time=   0.7s\n",
            "[CV 4/5] END ....C=100, gamma=0.001, kernel=rbf;, score=0.855 total time=   0.7s\n",
            "[CV 5/5] END ....C=100, gamma=0.001, kernel=rbf;, score=0.848 total time=   0.7s\n",
            "[CV 1/5] END ...C=100, gamma=0.0001, kernel=rbf;, score=0.788 total time=   0.7s\n",
            "[CV 2/5] END ...C=100, gamma=0.0001, kernel=rbf;, score=0.787 total time=   0.7s\n",
            "[CV 3/5] END ...C=100, gamma=0.0001, kernel=rbf;, score=0.794 total time=   0.7s\n",
            "[CV 4/5] END ...C=100, gamma=0.0001, kernel=rbf;, score=0.794 total time=   0.7s\n",
            "[CV 5/5] END ...C=100, gamma=0.0001, kernel=rbf;, score=0.794 total time=   0.7s\n",
            "[CV 1/5] END .......C=1000, gamma=1, kernel=rbf;, score=0.300 total time=   2.0s\n",
            "[CV 2/5] END .......C=1000, gamma=1, kernel=rbf;, score=0.301 total time=   1.9s\n",
            "[CV 3/5] END .......C=1000, gamma=1, kernel=rbf;, score=0.301 total time=   1.9s\n",
            "[CV 4/5] END .......C=1000, gamma=1, kernel=rbf;, score=0.301 total time=   1.9s\n",
            "[CV 5/5] END .......C=1000, gamma=1, kernel=rbf;, score=0.298 total time=   1.9s\n",
            "[CV 1/5] END .....C=1000, gamma=0.1, kernel=rbf;, score=0.350 total time=   1.9s\n",
            "[CV 2/5] END .....C=1000, gamma=0.1, kernel=rbf;, score=0.351 total time=   1.9s\n",
            "[CV 3/5] END .....C=1000, gamma=0.1, kernel=rbf;, score=0.358 total time=   1.9s\n",
            "[CV 4/5] END .....C=1000, gamma=0.1, kernel=rbf;, score=0.351 total time=   1.9s\n",
            "[CV 5/5] END .....C=1000, gamma=0.1, kernel=rbf;, score=0.333 total time=   1.9s\n",
            "[CV 1/5] END ....C=1000, gamma=0.01, kernel=rbf;, score=0.802 total time=   0.9s\n",
            "[CV 2/5] END ....C=1000, gamma=0.01, kernel=rbf;, score=0.830 total time=   0.9s\n",
            "[CV 3/5] END ....C=1000, gamma=0.01, kernel=rbf;, score=0.819 total time=   0.9s\n",
            "[CV 4/5] END ....C=1000, gamma=0.01, kernel=rbf;, score=0.830 total time=   0.9s\n",
            "[CV 5/5] END ....C=1000, gamma=0.01, kernel=rbf;, score=0.816 total time=   0.9s\n",
            "[CV 1/5] END ...C=1000, gamma=0.001, kernel=rbf;, score=0.862 total time=   0.7s\n",
            "[CV 2/5] END ...C=1000, gamma=0.001, kernel=rbf;, score=0.848 total time=   0.7s\n",
            "[CV 3/5] END ...C=1000, gamma=0.001, kernel=rbf;, score=0.844 total time=   0.8s\n",
            "[CV 4/5] END ...C=1000, gamma=0.001, kernel=rbf;, score=0.855 total time=   0.7s\n",
            "[CV 5/5] END ...C=1000, gamma=0.001, kernel=rbf;, score=0.848 total time=   0.7s\n",
            "[CV 1/5] END ..C=1000, gamma=0.0001, kernel=rbf;, score=0.855 total time=   0.6s\n",
            "[CV 2/5] END ..C=1000, gamma=0.0001, kernel=rbf;, score=0.840 total time=   0.6s\n",
            "[CV 3/5] END ..C=1000, gamma=0.0001, kernel=rbf;, score=0.858 total time=   0.6s\n",
            "[CV 4/5] END ..C=1000, gamma=0.0001, kernel=rbf;, score=0.844 total time=   0.6s\n",
            "[CV 5/5] END ..C=1000, gamma=0.0001, kernel=rbf;, score=0.840 total time=   0.6s\n",
            "{'C': 100, 'gamma': 0.001, 'kernel': 'rbf'}\n",
            "SVC(C=100, gamma=0.001)\n",
            "RBF Kernel model Accuracy:\n",
            "0.8611898016997167\n"
          ]
        },
        {
          "data": {
            "image/png": "[encoded data removed]",
            "text/plain": [
              "<Figure size 600x600 with 2 Axes>"
            ]
          },
          "metadata": {},
          "output_type": "display_data"
        }
      ],
      "source": [
        "from sklearn.model_selection import GridSearchCV\n",
        "from sklearn.svm import SVC\n",
        "from sklearn.metrics import accuracy_score, precision_score, f1_score, recall_score, confusion_matrix\n",
        "import seaborn as sns\n",
        "\n",
        "# defining parameter range\n",
        "param_grid = {'C': [0.1, 1, 10, 100, 1000],\n",
        "              'gamma': [1, 0.1, 0.01, 0.001, 0.0001],\n",
        "              'kernel': ['rbf']}\n",
        "grid = GridSearchCV(SVC(), param_grid, refit = True, verbose = 3)\n",
        "# fitting the model for grid search\n",
        "grid.fit(X_train, Y_train)\n",
        "# print best parameter after tuning\n",
        "print(grid.best_params_)\n",
        "# print how our model looks after hyper-parameter tuning\n",
        "print(grid.best_estimator_)\n",
        "\n",
        "best_model = grid.best_estimator_\n",
        "y_pred = best_model.predict(X_test)\n",
        "print(\"RBF Kernel model Accuracy:\")\n",
        "print(accuracy_score(Y_test, y_pred))\n",
        "\n",
        "# Confusion Matrix Heatmap\n",
        "cm = confusion_matrix(Y_test, y_pred)\n",
        "plt.figure(figsize=(6, 6))\n",
        "sns.heatmap(cm, annot=True, cmap='Blues', fmt='d',\n",
        "            xticklabels=np.unique(Y_train), yticklabels=np.unique(Y_train))\n",
        "plt.xlabel('Predicted labels')\n",
        "plt.ylabel('True labels')\n",
        "plt.title('Confusion Matrix')\n",
        "plt.show()"
      ]
    },
    {
      "cell_type": "markdown",
      "metadata": {
        "id": "IMxto0ebQGDu"
      },
      "source": [
        "2. SVM Kernel = Polynomial"
      ]
    },
    {
      "cell_type": "code",
      "execution_count": 18,
      "metadata": {
        "id": "quL4EvWmQILb"
      },
      "outputs": [
        {
          "name": "stdout",
          "output_type": "stream",
          "text": [
            "Fitting 5 folds for each of 15 candidates, totalling 75 fits\n",
            "[CV 1/5] END ....degree=2, gamma=1, kernel=poly;, score=0.862 total time=   0.6s\n",
            "[CV 2/5] END ....degree=2, gamma=1, kernel=poly;, score=0.837 total time=   0.5s\n",
            "[CV 3/5] END ....degree=2, gamma=1, kernel=poly;, score=0.848 total time=   0.6s\n",
            "[CV 4/5] END ....degree=2, gamma=1, kernel=poly;, score=0.848 total time=   0.5s\n",
            "[CV 5/5] END ....degree=2, gamma=1, kernel=poly;, score=0.858 total time=   0.5s\n",
            "[CV 1/5] END ..degree=2, gamma=0.1, kernel=poly;, score=0.862 total time=   0.5s\n",
            "[CV 2/5] END ..degree=2, gamma=0.1, kernel=poly;, score=0.837 total time=   0.6s\n",
            "[CV 3/5] END ..degree=2, gamma=0.1, kernel=poly;, score=0.848 total time=   0.5s\n",
            "[CV 4/5] END ..degree=2, gamma=0.1, kernel=poly;, score=0.848 total time=   0.5s\n",
            "[CV 5/5] END ..degree=2, gamma=0.1, kernel=poly;, score=0.858 total time=   0.5s\n",
            "[CV 1/5] END .degree=2, gamma=0.01, kernel=poly;, score=0.869 total time=   0.6s\n",
            "[CV 2/5] END .degree=2, gamma=0.01, kernel=poly;, score=0.833 total time=   0.6s\n",
            "[CV 3/5] END .degree=2, gamma=0.01, kernel=poly;, score=0.844 total time=   0.5s\n",
            "[CV 4/5] END .degree=2, gamma=0.01, kernel=poly;, score=0.848 total time=   0.5s\n",
            "[CV 5/5] END .degree=2, gamma=0.01, kernel=poly;, score=0.855 total time=   0.5s\n",
            "[CV 1/5] END degree=2, gamma=0.001, kernel=poly;, score=0.420 total time=   0.8s\n",
            "[CV 2/5] END degree=2, gamma=0.001, kernel=poly;, score=0.447 total time=   0.8s\n",
            "[CV 3/5] END degree=2, gamma=0.001, kernel=poly;, score=0.447 total time=   0.8s\n",
            "[CV 4/5] END degree=2, gamma=0.001, kernel=poly;, score=0.429 total time=   0.8s\n",
            "[CV 5/5] END degree=2, gamma=0.001, kernel=poly;, score=0.426 total time=   0.8s\n",
            "[CV 1/5] END degree=2, gamma=0.0001, kernel=poly;, score=0.300 total time=   0.8s\n",
            "[CV 2/5] END degree=2, gamma=0.0001, kernel=poly;, score=0.301 total time=   0.8s\n",
            "[CV 3/5] END degree=2, gamma=0.0001, kernel=poly;, score=0.301 total time=   0.8s\n",
            "[CV 4/5] END degree=2, gamma=0.0001, kernel=poly;, score=0.301 total time=   0.8s\n",
            "[CV 5/5] END degree=2, gamma=0.0001, kernel=poly;, score=0.298 total time=   0.8s\n",
            "[CV 1/5] END ....degree=3, gamma=1, kernel=poly;, score=0.852 total time=   0.5s\n",
            "[CV 2/5] END ....degree=3, gamma=1, kernel=poly;, score=0.833 total time=   0.6s\n",
            "[CV 3/5] END ....degree=3, gamma=1, kernel=poly;, score=0.848 total time=   0.6s\n",
            "[CV 4/5] END ....degree=3, gamma=1, kernel=poly;, score=0.837 total time=   0.7s\n",
            "[CV 5/5] END ....degree=3, gamma=1, kernel=poly;, score=0.848 total time=   0.6s\n",
            "[CV 1/5] END ..degree=3, gamma=0.1, kernel=poly;, score=0.852 total time=   0.5s\n",
            "[CV 2/5] END ..degree=3, gamma=0.1, kernel=poly;, score=0.833 total time=   0.5s\n",
            "[CV 3/5] END ..degree=3, gamma=0.1, kernel=poly;, score=0.848 total time=   0.5s\n",
            "[CV 4/5] END ..degree=3, gamma=0.1, kernel=poly;, score=0.837 total time=   0.5s\n",
            "[CV 5/5] END ..degree=3, gamma=0.1, kernel=poly;, score=0.848 total time=   0.5s\n",
            "[CV 1/5] END .degree=3, gamma=0.01, kernel=poly;, score=0.852 total time=   0.5s\n",
            "[CV 2/5] END .degree=3, gamma=0.01, kernel=poly;, score=0.833 total time=   0.5s\n",
            "[CV 3/5] END .degree=3, gamma=0.01, kernel=poly;, score=0.848 total time=   0.5s\n",
            "[CV 4/5] END .degree=3, gamma=0.01, kernel=poly;, score=0.837 total time=   0.5s\n",
            "[CV 5/5] END .degree=3, gamma=0.01, kernel=poly;, score=0.848 total time=   0.5s\n",
            "[CV 1/5] END degree=3, gamma=0.001, kernel=poly;, score=0.410 total time=   0.8s\n",
            "[CV 2/5] END degree=3, gamma=0.001, kernel=poly;, score=0.443 total time=   0.8s\n",
            "[CV 3/5] END degree=3, gamma=0.001, kernel=poly;, score=0.433 total time=   0.8s\n",
            "[CV 4/5] END degree=3, gamma=0.001, kernel=poly;, score=0.404 total time=   0.8s\n",
            "[CV 5/5] END degree=3, gamma=0.001, kernel=poly;, score=0.404 total time=   0.8s\n",
            "[CV 1/5] END degree=3, gamma=0.0001, kernel=poly;, score=0.300 total time=   0.7s\n",
            "[CV 2/5] END degree=3, gamma=0.0001, kernel=poly;, score=0.301 total time=   0.7s\n",
            "[CV 3/5] END degree=3, gamma=0.0001, kernel=poly;, score=0.301 total time=   0.7s\n",
            "[CV 4/5] END degree=3, gamma=0.0001, kernel=poly;, score=0.301 total time=   0.7s\n",
            "[CV 5/5] END degree=3, gamma=0.0001, kernel=poly;, score=0.298 total time=   0.7s\n",
            "[CV 1/5] END ....degree=4, gamma=1, kernel=poly;, score=0.852 total time=   0.5s\n",
            "[CV 2/5] END ....degree=4, gamma=1, kernel=poly;, score=0.830 total time=   0.5s\n",
            "[CV 3/5] END ....degree=4, gamma=1, kernel=poly;, score=0.844 total time=   0.5s\n",
            "[CV 4/5] END ....degree=4, gamma=1, kernel=poly;, score=0.837 total time=   0.5s\n",
            "[CV 5/5] END ....degree=4, gamma=1, kernel=poly;, score=0.840 total time=   0.5s\n",
            "[CV 1/5] END ..degree=4, gamma=0.1, kernel=poly;, score=0.852 total time=   0.5s\n",
            "[CV 2/5] END ..degree=4, gamma=0.1, kernel=poly;, score=0.830 total time=   0.5s\n",
            "[CV 3/5] END ..degree=4, gamma=0.1, kernel=poly;, score=0.844 total time=   0.5s\n",
            "[CV 4/5] END ..degree=4, gamma=0.1, kernel=poly;, score=0.837 total time=   0.5s\n",
            "[CV 5/5] END ..degree=4, gamma=0.1, kernel=poly;, score=0.840 total time=   0.5s\n",
            "[CV 1/5] END .degree=4, gamma=0.01, kernel=poly;, score=0.852 total time=   0.5s\n",
            "[CV 2/5] END .degree=4, gamma=0.01, kernel=poly;, score=0.830 total time=   0.5s\n",
            "[CV 3/5] END .degree=4, gamma=0.01, kernel=poly;, score=0.844 total time=   0.5s\n",
            "[CV 4/5] END .degree=4, gamma=0.01, kernel=poly;, score=0.837 total time=   0.5s\n",
            "[CV 5/5] END .degree=4, gamma=0.01, kernel=poly;, score=0.840 total time=   0.5s\n",
            "[CV 1/5] END degree=4, gamma=0.001, kernel=poly;, score=0.396 total time=   0.8s\n",
            "[CV 2/5] END degree=4, gamma=0.001, kernel=poly;, score=0.415 total time=   0.8s\n",
            "[CV 3/5] END degree=4, gamma=0.001, kernel=poly;, score=0.422 total time=   0.8s\n",
            "[CV 4/5] END degree=4, gamma=0.001, kernel=poly;, score=0.390 total time=   0.8s\n",
            "[CV 5/5] END degree=4, gamma=0.001, kernel=poly;, score=0.387 total time=   0.7s\n",
            "[CV 1/5] END degree=4, gamma=0.0001, kernel=poly;, score=0.300 total time=   0.7s\n",
            "[CV 2/5] END degree=4, gamma=0.0001, kernel=poly;, score=0.301 total time=   0.7s\n",
            "[CV 3/5] END degree=4, gamma=0.0001, kernel=poly;, score=0.301 total time=   0.7s\n",
            "[CV 4/5] END degree=4, gamma=0.0001, kernel=poly;, score=0.301 total time=   0.7s\n",
            "[CV 5/5] END degree=4, gamma=0.0001, kernel=poly;, score=0.298 total time=   0.7s\n",
            "{'degree': 2, 'gamma': 1, 'kernel': 'poly'}\n",
            "SVC(degree=2, gamma=1, kernel='poly')\n",
            "Polynomial Kernel model Accuracy:\n",
            "0.8611898016997167\n"
          ]
        },
        {
          "data": {
            "image/png": "[encoded data removed]",
            "text/plain": [
              "<Figure size 600x600 with 2 Axes>"
            ]
          },
          "metadata": {},
          "output_type": "display_data"
        }
      ],
      "source": [
        "from sklearn.model_selection import GridSearchCV\n",
        "from sklearn.svm import SVC\n",
        "from sklearn.metrics import accuracy_score, precision_score, f1_score, recall_score, confusion_matrix\n",
        "import seaborn as sns\n",
        "\n",
        "# defining parameter range\n",
        "param_grid = {'degree': [2,3,4],\n",
        "              'gamma': [1, 0.1, 0.01, 0.001, 0.0001],\n",
        "              'kernel': ['poly']}\n",
        "grid = GridSearchCV(SVC(), param_grid, refit = True, verbose = 3)\n",
        "# fitting the model for grid search\n",
        "grid.fit(X_train, Y_train)\n",
        "# print best parameter after tuning\n",
        "print(grid.best_params_)\n",
        "# print how our model looks after hyper-parameter tuning\n",
        "print(grid.best_estimator_)\n",
        "\n",
        "best_model = grid.best_estimator_\n",
        "y_pred = best_model.predict(X_test)\n",
        "print(\"Polynomial Kernel model Accuracy:\")\n",
        "print(accuracy_score(Y_test, y_pred))\n",
        "\n",
        "# Confusion Matrix Heatmap\n",
        "cm = confusion_matrix(Y_test, y_pred)\n",
        "plt.figure(figsize=(6, 6))\n",
        "sns.heatmap(cm, annot=True, cmap='Blues', fmt='d',\n",
        "            xticklabels=np.unique(Y_train), yticklabels=np.unique(Y_train))\n",
        "plt.xlabel('Predicted labels')\n",
        "plt.ylabel('True labels')\n",
        "plt.title('Confusion Matrix')\n",
        "plt.show()"
      ]
    },
    {
      "cell_type": "markdown",
      "metadata": {
        "id": "gapoZr_OQJmd"
      },
      "source": [
        "3. SVM Kernel = Linear"
      ]
    },
    {
      "cell_type": "code",
      "execution_count": 19,
      "metadata": {
        "id": "lD63YEZgQL6T"
      },
      "outputs": [
        {
          "name": "stdout",
          "output_type": "stream",
          "text": [
            "Linear Kernel model Accuracy:\n",
            "0.8555240793201133\n"
          ]
        },
        {
          "data": {
            "image/png": "[encoded data removed]",
            "text/plain": [
              "<Figure size 600x600 with 2 Axes>"
            ]
          },
          "metadata": {},
          "output_type": "display_data"
        }
      ],
      "source": [
        "svm_linear = SVC(kernel='linear')\n",
        "svm_linear.fit(X_train, Y_train)\n",
        "y_pred = svm_linear.predict(X_test)\n",
        "print(\"Linear Kernel model Accuracy:\")\n",
        "print(accuracy_score(Y_test, y_pred))\n",
        "\n",
        "# Confusion Matrix Heatmap\n",
        "cm = confusion_matrix(Y_test, y_pred)\n",
        "plt.figure(figsize=(6, 6))\n",
        "sns.heatmap(cm, annot=True, cmap='Blues', fmt='d',\n",
        "            xticklabels=np.unique(Y_train), yticklabels=np.unique(Y_train))\n",
        "plt.xlabel('Predicted labels')\n",
        "plt.ylabel('True labels')\n",
        "plt.title('Confusion Matrix')\n",
        "plt.show()"
      ]
    }
  ],
  "metadata": {
    "accelerator": "GPU",
    "colab": {
      "gpuType": "T4",
      "provenance": []
    },
    "kernelspec": {
      "display_name": "Python 3",
      "name": "python3"
    },
    "language_info": {
      "codemirror_mode": {
        "name": "ipython",
        "version": 3
      },
      "file_extension": ".py",
      "mimetype": "text/x-python",
      "name": "python",
      "nbconvert_exporter": "python",
      "pygments_lexer": "ipython3",
      "version": "3.11.3"
    }
  },
  "nbformat": 4,
  "nbformat_minor": 0
}
